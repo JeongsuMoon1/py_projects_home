{
 "cells": [
  {
   "cell_type": "markdown",
   "metadata": {},
   "source": [
    "## 데이터 획득\n",
    "\n",
    "* api 사용\n",
    "* naver open api를 활용\n",
    "* urllib.request 모듈을 사용하여 통신처리후 JSON 파싱을 통한 데이터 추출"
   ]
  },
  {
   "cell_type": "code",
   "execution_count": 1,
   "metadata": {},
   "outputs": [],
   "source": [
    "import urllib.request\n",
    "import os\n",
    "import sys"
   ]
  },
  {
   "cell_type": "markdown",
   "metadata": {},
   "source": [
    "#### naver API 사용을 위한 키"
   ]
  },
  {
   "cell_type": "code",
   "execution_count": 2,
   "metadata": {},
   "outputs": [],
   "source": [
    "Client_ID = '_kYGPWLxEKgbDV0v7Kn3'\n",
    "Secret    = 'FNDu62I5Md'"
   ]
  },
  {
   "cell_type": "markdown",
   "metadata": {},
   "source": [
    "* 통신할 URL 정의 \n",
    "* parameter 정의 (get 방식 or post 방식에 맞춰 구성)\n",
    "* header에 위에서 정의한 키 및 응답 데이터 포멧에 대한 구성 추가\n",
    "* 통신 -> 응답 코드를 확인 : 200번 경우(성공) -> 응답데이터에서 json 데이터획득\n",
    "* json데이터에서 [가공 및 전처리는 일단 배제] 데이터를 적제(csv or xls or ddatabase)"
   ]
  },
  {
   "cell_type": "code",
   "execution_count": 4,
   "metadata": {},
   "outputs": [
    {
     "data": {
      "text/plain": [
       "'https://openapi.naver.com/v1/datalab/search'"
      ]
     },
     "execution_count": 4,
     "metadata": {},
     "output_type": "execute_result"
    }
   ],
   "source": [
    "# 네이버 통합 검색어 트렌드 조회 URL\n",
    "url = \"https://openapi.naver.com/v1/datalab/search\"\n",
    "url"
   ]
  },
  {
   "cell_type": "code",
   "execution_count": 8,
   "metadata": {},
   "outputs": [
    {
     "data": {
      "text/plain": [
       "'{\"startDate\":\"2019-07-09\",\"endDate\":\"2019-08-06\",\"timeUnit\":\"month\",\"keywordGroups\":[{\"groupName\":\"대한민국\",\"keywords\":[\"대한민국\",\"korean\"]},{\"groupName\":\"일본\",\"keywords\":[\"일본\",\"japan\"]}],\"device\":\"pc\",\"ages\":[\"3\",\"4\"],\"gender\":\"f\"}'"
      ]
     },
     "execution_count": 8,
     "metadata": {},
     "output_type": "execute_result"
    }
   ],
   "source": [
    "body = '{\"startDate\":\"2019-07-09\",\"endDate\":\"2019-08-06\",\"timeUnit\":\"month\",\"keywordGroups\":[{\"groupName\":\"대한민국\",\"keywords\":[\"대한민국\",\"korean\"]},{\"groupName\":\"일본\",\"keywords\":[\"일본\",\"japan\"]}],\"device\":\"pc\",\"ages\":[\"3\",\"4\"],\"gender\":\"f\"}';\n",
    "body"
   ]
  },
  {
   "cell_type": "code",
   "execution_count": 10,
   "metadata": {},
   "outputs": [],
   "source": [
    "# 통신 객체 생성\n",
    "request = urllib.request.Request(url)\n",
    "# 헤더 설정\n",
    "request.add_header(\"X-Naver-Client-Id\", Client_ID)\n",
    "request.add_header(\"X-Naver-Client-Secret\", Secret)\n",
    "request.add_header(\"Content-Type\",\"application/json\")"
   ]
  },
  {
   "cell_type": "code",
   "execution_count": 12,
   "metadata": {},
   "outputs": [],
   "source": [
    "# 실제 통신 : post방식\n",
    "# 한글 데이터를 그대로 전송하면 오류 발생 => body.encode(\"utf-8\") 처리\n",
    "response = urllib.request.urlopen(request, data=body.encode(\"utf-8\"))"
   ]
  },
  {
   "cell_type": "code",
   "execution_count": 13,
   "metadata": {},
   "outputs": [
    {
     "data": {
      "text/plain": [
       "<http.client.HTTPResponse at 0x246e8fc9780>"
      ]
     },
     "execution_count": 13,
     "metadata": {},
     "output_type": "execute_result"
    }
   ],
   "source": [
    "response"
   ]
  },
  {
   "cell_type": "code",
   "execution_count": 14,
   "metadata": {},
   "outputs": [
    {
     "name": "stdout",
     "output_type": "stream",
     "text": [
      "{\"startDate\":\"2019-07-01\",\"endDate\":\"2019-08-07\",\"timeUnit\":\"month\",\"results\":[{\"title\":\"대한민국\",\"keywords\":[\"대한민국\",\"korean\"],\"data\":[{\"period\":\"2019-07-01\",\"ratio\":17.93314},{\"period\":\"2019-08-01\",\"ratio\":3.91837}]},{\"title\":\"일본\",\"keywords\":[\"일본\",\"japan\"],\"data\":[{\"period\":\"2019-07-01\",\"ratio\":100},{\"period\":\"2019-08-01\",\"ratio\":31.18427}]}]}\n"
     ]
    }
   ],
   "source": [
    "# 응답 코드가 정상이면\n",
    "rescode = response.getcode()\n",
    "if(rescode==200):\n",
    "    # 실제 응답 데이터를 획득\n",
    "    response_body = response.read()\n",
    "    print(response_body.decode('utf-8'))\n",
    "else:\n",
    "    print(\"Error Code:\" + rescode)"
   ]
  },
  {
   "cell_type": "code",
   "execution_count": null,
   "metadata": {},
   "outputs": [],
   "source": []
  },
  {
   "cell_type": "code",
   "execution_count": 16,
   "metadata": {},
   "outputs": [
    {
     "data": {
      "text/plain": [
       "'https://openapi.naver.com/v1/search/news.json'"
      ]
     },
     "execution_count": 16,
     "metadata": {},
     "output_type": "execute_result"
    }
   ],
   "source": [
    "# 뉴스 검색\n",
    "news_url = 'https://openapi.naver.com/v1/search/news.json'\n",
    "news_url"
   ]
  },
  {
   "cell_type": "code",
   "execution_count": 17,
   "metadata": {},
   "outputs": [
    {
     "data": {
      "text/plain": [
       "'query=%EC%95%84%EB%B2%A0&display=10&start=1&sort=date'"
      ]
     },
     "execution_count": 17,
     "metadata": {},
     "output_type": "execute_result"
    }
   ],
   "source": [
    "# 파라미터\n",
    "keyword    = urllib.parse.quote('아베')\n",
    "news_param = 'query=%s&display=%s&start=%s&sort=%s' % (keyword, 10, 1, 'date')\n",
    "news_param"
   ]
  },
  {
   "cell_type": "code",
   "execution_count": 18,
   "metadata": {},
   "outputs": [
    {
     "data": {
      "text/plain": [
       "'https://openapi.naver.com/v1/search/news.json?query=%EC%95%84%EB%B2%A0&display=10&start=1&sort=date'"
      ]
     },
     "execution_count": 18,
     "metadata": {},
     "output_type": "execute_result"
    }
   ],
   "source": [
    "url = '%s?%s' % (news_url, news_param)\n",
    "url"
   ]
  },
  {
   "cell_type": "code",
   "execution_count": 19,
   "metadata": {},
   "outputs": [],
   "source": [
    "# 통신 객체 생성\n",
    "request = urllib.request.Request(url)\n",
    "# 헤더 설정\n",
    "request.add_header(\"X-Naver-Client-Id\", Client_ID)\n",
    "request.add_header(\"X-Naver-Client-Secret\", Secret)"
   ]
  },
  {
   "cell_type": "code",
   "execution_count": 20,
   "metadata": {},
   "outputs": [],
   "source": [
    "# 통신\n",
    "response = urllib.request.urlopen(request)"
   ]
  },
  {
   "cell_type": "code",
   "execution_count": 21,
   "metadata": {},
   "outputs": [
    {
     "name": "stdout",
     "output_type": "stream",
     "text": [
      "{\n",
      "\"lastBuildDate\": \"Wed, 07 Aug 2019 15:34:50 +0900\",\n",
      "\"total\": 567085,\n",
      "\"start\": 1,\n",
      "\"display\": 10,\n",
      "\"items\": [\n",
      "{\n",
      "\"title\": \"日시행세칙, 개별허가 품목 미지정…경제보복 기조는 여전 ‘지켜보자’\",\n",
      "\"originallink\": \"http://speconomy.com/news/newsview.php?ncode=1065593092041177\",\n",
      "\"link\": \"http://speconomy.com/news/newsview.php?ncode=1065593092041177\",\n",
      "\"description\": \"그러나 한국을 화이트리스트에서 배제한다는 <b>아베</b> 내각의 기조에는 여전히 변함없는데다가 일본 정부가 국제사회를 향한 여론전에 시동을 거는 모습을 보이고 있어 한일 무역전쟁 확산이 더는 없을 것이라는 단정은... \",\n",
      "\"pubDate\": \"Wed, 07 Aug 2019 15:31:00 +0900\"\n",
      "\n",
      "},\n",
      "{\n",
      "\"title\": \"<b>아베</b> 보좌관 &quot;한국은 과거 매춘 관광국&quot; 망언\",\n",
      "\"originallink\": \"https://www.hankyung.com/politics/article/201908079344H\",\n",
      "\"link\": \"https://news.naver.com/main/read.nhn?mode=LSD&mid=sec&sid1=100&oid=015&aid=0004188647\",\n",
      "\"description\": \"<b>아베</b> 신조 일본 총리의 최 측근인 에토 세이이치 총리 보좌관이 한국을 '매춘 관광국'으로 언급한 사실이... 에토 보좌관의 발언이 알려진 후 김영춘 의원은 &quot;<b>아베</b> 총리 주변 강경파의 분위기를 보여준 사례라고 볼 수 있다... \",\n",
      "\"pubDate\": \"Wed, 07 Aug 2019 15:30:00 +0900\"\n",
      "\n",
      "},\n",
      "{\n",
      "\"title\": \"주옥순 '친일' 발언에 박용진 &quot;자기가 뭔데 사과를 해&quot;\",\n",
      "\"originallink\": \"http://www.ohmynews.com/NWS_Web/View/at_pg.aspx?CNTN_CD=A0002560316&CMPT_CD=P0010&utm_source=naver&utm_medium=newsearch&utm_campaign=naver_news\",\n",
      "\"link\": \"https://news.naver.com/main/read.nhn?mode=LSD&mid=sec&sid1=102&oid=047&aid=0002236117\",\n",
      "\"description\": \"주옥순 엄마부대 대표는 지난 1일 일본대사관 앞 위안부 소녀상 옆에서 &quot;<b>아베</b> 총리님 국민의 한 사람으로서 진심으로 사죄를 드립니다&quot;라며 &quot;일본 파이팅&quot;을 외쳤습니다. 이에 박용진 더불어민주당 의원은 7일 CBS라디오... \",\n",
      "\"pubDate\": \"Wed, 07 Aug 2019 15:30:00 +0900\"\n",
      "\n",
      "},\n",
      "{\n",
      "\"title\": \"일본 공세 수위 낮출까? 산업계 “안심할 수 없어”\",\n",
      "\"originallink\": \"http://www.etoday.co.kr/news/section/newsview.php?idxno=1785673\",\n",
      "\"link\": \"http://www.etoday.co.kr/news/section/newsview.php?idxno=1785673\",\n",
      "\"description\": \"다만 기업들은 우리나라 정부가 일본에 강력한 맞불대응을 놓을 경우, <b>아베</b> 정부가 추가 제재 카드를 들고나오지 않을까 노심초사하고 있다. 일본이 한국의 소재·부품·장비 경쟁력 강화대책 등을 지켜보고 추가 대응... \",\n",
      "\"pubDate\": \"Wed, 07 Aug 2019 15:30:00 +0900\"\n",
      "\n",
      "},\n",
      "{\n",
      "\"title\": \"강상중 &quot;지소미아 파기 한미관계 어려워져…불매운동도 마이너스&quot;\",\n",
      "\"originallink\": \"http://www.newsis.com/view/?id=NISX20190807_0000734627&cID=10301&pID=10300\",\n",
      "\"link\": \"https://news.naver.com/main/read.nhn?mode=LSD&mid=sec&sid1=100&oid=003&aid=0009388876\",\n",
      "\"description\": \"또 강 교수는 일본의 화이트리스트 제외 조치가 치밀하게 계획된 것이 아니라 <b>아베</b> 총리의 개인의 의향이... 대통령이 <b>아베</b> 총리에게 정상회담을 통해서 적극적으로 메시지를 보내야 한다&quot;고 제언했다. 강 교수는 이번... \",\n",
      "\"pubDate\": \"Wed, 07 Aug 2019 15:27:00 +0900\"\n",
      "\n",
      "},\n",
      "{\n",
      "\"title\": \"말레이 총리 &quot;유일한 피폭국 日, 핵무기금지조약 지지해야&quot;\",\n",
      "\"originallink\": \"http://news1.kr/articles/?3690271\",\n",
      "\"link\": \"https://news.naver.com/main/read.nhn?mode=LSD&mid=sec&sid1=104&oid=421&aid=0004134465\",\n",
      "\"description\": \"<b>아베</b> 신조(安倍晋三) 일본 총리는 전일 원폭 피해자 단체 대표들과 만난 자리에서 핵무기금지조약 가입하지... 그러나 <b>아베</b> 총리는 이 헌법9조를 바꿔 '전쟁할 수 있는 나라'로 바꾸려고 하고 있다. 마하티르 총리 8일까지... \",\n",
      "\"pubDate\": \"Wed, 07 Aug 2019 15:26:00 +0900\"\n",
      "\n",
      "},\n",
      "{\n",
      "\"title\": \"北, 日 경제보복 맹비난…“섬나라 통째로 불태울 분노 폭발”\",\n",
      "\"originallink\": \"http://news.heraldcorp.com/view.php?ud=20190807000645\",\n",
      "\"link\": \"https://news.naver.com/main/read.nhn?mode=LSD&mid=sec&sid1=100&oid=016&aid=0001566369\",\n",
      "\"description\": \"우리민족끼리는 <b>아베</b> 신조 일본 내각이 한국으로의 소재·부품 수출 규제에 이어 ‘백색국가’(화이트리스트)... 우리민족끼리는 계속해서 “남조선 인민들이 줄기차게 벌이고 있는 반일투쟁은 단순히 <b>아베</b> 패당의... \",\n",
      "\"pubDate\": \"Wed, 07 Aug 2019 15:24:00 +0900\"\n",
      "\n",
      "},\n",
      "{\n",
      "\"title\": \"안산시, 일본 무역보복 종합지원 대책본부 설치\",\n",
      "\"originallink\": \"http://www.ohmynews.com/NWS_Web/View/at_pg.aspx?CNTN_CD=A0002560323&CMPT_CD=P0010&utm_source=naver&utm_medium=newsearch&utm_campaign=naver_news\",\n",
      "\"link\": \"https://news.naver.com/main/read.nhn?mode=LSD&mid=sec&sid1=100&oid=047&aid=0002236115\",\n",
      "\"description\": \"윤화섭 안산 시장 &quot; <b>아베</b> 정부 일방적인 무역보복 조치 유감|&quot; ▲  윤화섭 안산시장 ⓒ 안산시 안산시 (시장... 윤 시장은 이날 회의에서 <b>아베</b>정부의 일방적인 무역보복 조치에 깊은 유감의 뜻을 밝히며, 향후 한일양국은... \",\n",
      "\"pubDate\": \"Wed, 07 Aug 2019 15:24:00 +0900\"\n",
      "\n",
      "},\n",
      "{\n",
      "\"title\": \"나경원 &quot;노영민 `강제징용 피해자 1+1안 합의` 언급은 대국민 거짓말&quot;\",\n",
      "\"originallink\": \"http://news.mk.co.kr/newsRead.php?year=2019&no=606970\",\n",
      "\"link\": \"https://news.naver.com/main/read.nhn?mode=LSD&mid=sec&sid1=100&oid=009&aid=0004405962\",\n",
      "\"description\": \"그러면서 &quot;청와대는 경제위기설이 나오면 일본 <b>아베</b> 정부만 웃는다고 하면서 경제를 걱정하는 목소리를 친일로 몰아가고 있다&quot;며 &quot;경제 대전환만이 답으로, 좌파적 경제 망상으로 경제를 나락으로 몰고 가는 일을 즉각... \",\n",
      "\"pubDate\": \"Wed, 07 Aug 2019 15:24:00 +0900\"\n",
      "\n",
      "},\n",
      "{\n",
      "\"title\": \"정의당대전시당, <b>아베</b>도발규탄 비상행동 돌입\",\n",
      "\"originallink\": \"http://www.ohmynews.com/NWS_Web/View/at_pg.aspx?CNTN_CD=A0002560324&CMPT_CD=P0010&utm_source=naver&utm_medium=newsearch&utm_campaign=naver_news\",\n",
      "\"link\": \"https://news.naver.com/main/read.nhn?mode=LSD&mid=sec&sid1=100&oid=047&aid=0002236116\",\n",
      "\"description\": \"일본 <b>아베</b> 정부가 한국을 화이트리스트((백색국가·수출 심사 우대국)에서 제외하는 시행령을 7일 공포하고 관보에 게재한 것을 계기로 '<b>아베</b> 도발 규탄! 한일군사협정 파기 촉구 비상행동'에 돌입한다고 7일 밝혔다.... \",\n",
      "\"pubDate\": \"Wed, 07 Aug 2019 15:24:00 +0900\"\n",
      "\n",
      "}\n",
      "]\n",
      "}\n",
      "\n"
     ]
    }
   ],
   "source": [
    "# 응답 코드가 정상이면\n",
    "rescode = response.getcode()\n",
    "if(rescode==200):\n",
    "    # 실제 응답 데이터를 획득\n",
    "    response_body = response.read()\n",
    "    print(response_body.decode('utf-8'))\n",
    "else:\n",
    "    print(\"Error Code:\" + rescode)"
   ]
  },
  {
   "cell_type": "code",
   "execution_count": 23,
   "metadata": {},
   "outputs": [],
   "source": [
    "tmp = response_body.decode('utf-8')"
   ]
  },
  {
   "cell_type": "code",
   "execution_count": 24,
   "metadata": {},
   "outputs": [
    {
     "data": {
      "text/plain": [
       "str"
      ]
     },
     "execution_count": 24,
     "metadata": {},
     "output_type": "execute_result"
    }
   ],
   "source": [
    "type(tmp)"
   ]
  },
  {
   "cell_type": "code",
   "execution_count": 25,
   "metadata": {},
   "outputs": [],
   "source": [
    "# 원하는 데이터를 추출 => 파싱 => xml, json  같은 형식을 취해야한다"
   ]
  },
  {
   "cell_type": "code",
   "execution_count": 26,
   "metadata": {},
   "outputs": [],
   "source": [
    "response = urllib.request.urlopen(request)"
   ]
  },
  {
   "cell_type": "code",
   "execution_count": 27,
   "metadata": {},
   "outputs": [],
   "source": [
    "import json"
   ]
  },
  {
   "cell_type": "code",
   "execution_count": 28,
   "metadata": {},
   "outputs": [
    {
     "data": {
      "text/plain": [
       "{'lastBuildDate': 'Wed, 07 Aug 2019 15:39:51 +0900',\n",
       " 'total': 571311,\n",
       " 'start': 1,\n",
       " 'display': 10,\n",
       " 'items': [{'title': '일본 스타화가, 나라 요시토모 “정의 살아있는 한국은 좋은 나라”',\n",
       "   'originallink': 'http://www.hankookilbo.com/news/npath/201908071463074060?did=NA',\n",
       "   'link': 'https://news.naver.com/main/read.nhn?mode=LSD&mid=sec&sid1=103&oid=469&aid=0000411641',\n",
       "   'description': '나라는 2013년 <b>아베</b> 정권의 특정비밀보호법 추진 당시 작곡가 사카모토 류이치(坂本龍一), 소설가 무라카미 류(村上 ) 등 일본을 대표하는 문화예술인 89명과 법안폐기 활동을 펼친 바 있다. 2015년 노숙자 자립을 돕는 잡지... ',\n",
       "   'pubDate': 'Wed, 07 Aug 2019 15:35:00 +0900'},\n",
       "  {'title': '‘포스트 <b>아베</b>’ 고이즈미 신지로, 유명 아나운서와 결혼 발표',\n",
       "   'originallink': 'http://www.newspim.com/news/view/20190807001300',\n",
       "   'link': 'http://www.newspim.com/news/view/20190807001300',\n",
       "   'description': '오영상 전문기자 =\\xa0‘포스트 <b>아베</b>’의 유력한 후보 중 하나로 꼽히는 고이즈미 신지로(小泉進次·38) 일본... 7일 지지통신 등에 따르면 고이즈미 의원은 이날 <b>아베</b> 신조(安倍晋三) 총리, 스가 요시히데(菅義偉)... ',\n",
       "   'pubDate': 'Wed, 07 Aug 2019 15:35:00 +0900'},\n",
       "  {'title': '강상중 “화이트리스트 제외…日 치밀히 짠 계획 아냐”',\n",
       "   'originallink': 'http://www.ajunews.com/view/20190807153151610',\n",
       "   'link': 'http://www.ajunews.com/view/20190807153151610',\n",
       "   'description': '이어 “오히려 <b>아베</b> 신조 일본 총리 개인의 강한 의향이 반영된 것이 아닌가 생각한다“고 했다. 재일 한국인 2세로 일본의 극우화에 대한 견제의 목소리를 내온 강 교수는 “일본 경제산업성이 헤게모니를 쥐고 있다고... ',\n",
       "   'pubDate': 'Wed, 07 Aug 2019 15:34:00 +0900'},\n",
       "  {'title': '구리시의회, 일본 경제보복 규탄 성명…“경제보복 즉각 철회해야”',\n",
       "   'originallink': 'http://news.kbs.co.kr/news/view.do?ncd=4257986&ref=A',\n",
       "   'link': 'https://news.naver.com/main/read.nhn?mode=LSD&mid=sec&sid1=102&oid=056&aid=0010730089',\n",
       "   'description': '구리시의원들은 성명에서 &quot;<b>아베</b> 정부는 한국 정부의 외교적인 협상 의지와 한국 내 여론 악화에도 자유경제 시장질서에 반하는 독단적이고 독선적인 결정을 내렸다&quot;며 &quot;일본 정부의 조치는 대한민국 사법부 판결에 대한... ',\n",
       "   'pubDate': 'Wed, 07 Aug 2019 15:32:00 +0900'},\n",
       "  {'title': '강상중 &quot;도리어 日관광객 환영하고 안전 보장해야&quot;',\n",
       "   'originallink': 'http://www.viewsnnews.com/article?q=171893',\n",
       "   'link': 'http://www.viewsnnews.com/article?q=171893',\n",
       "   'description': '그는 <b>아베</b> 정부의 대한국 강경조치 배경에 대해선 &quot;그건 간단하다. 한반도가 일본의 의도를 넘어서서 독립된... 그는 <b>아베</b> 정부가 사전에 치밀하게 경제보복을 준비했다는 관측에 대해선 &quot;한국의 입장에서 봤을때 매우... ',\n",
       "   'pubDate': 'Wed, 07 Aug 2019 15:32:00 +0900'},\n",
       "  {'title': '“韓 화이트리스트 제외는 ‘계획’ 아닌 <b>아베</b> 의견 반영된 것”',\n",
       "   'originallink': 'http://www.munhwa.com/news/view.html?no=2019080701073621302001',\n",
       "   'link': 'https://news.naver.com/main/read.nhn?mode=LSD&mid=sec&sid1=100&oid=021&aid=0002399335',\n",
       "   'description': '아니다”라며 “<b>아베</b> 신조(安倍晋三) 일본 총리 개인의 강한 의향이 반영된 것”이라고 평가했다. 강 교수는 이날 국회에서 ‘한·일 대립을 넘어서 - 한·일 관계, 진단과 해법’을 주제로 열린 강연회에 참석해 “일본... ',\n",
       "   'pubDate': 'Wed, 07 Aug 2019 15:31:00 +0900'},\n",
       "  {'title': '日시행세칙, 개별허가 품목 미지정…경제보복 기조는 여전 ‘지켜보자’',\n",
       "   'originallink': 'http://speconomy.com/news/newsview.php?ncode=1065593092041177',\n",
       "   'link': 'http://speconomy.com/news/newsview.php?ncode=1065593092041177',\n",
       "   'description': '그러나 한국을 화이트리스트에서 배제한다는 <b>아베</b> 내각의 기조에는 여전히 변함없는데다가 일본 정부가 국제사회를 향한 여론전에 시동을 거는 모습을 보이고 있어 한일 무역전쟁 확산이 더는 없을 것이라는 단정은... ',\n",
       "   'pubDate': 'Wed, 07 Aug 2019 15:31:00 +0900'},\n",
       "  {'title': '<b>아베</b> 보좌관 &quot;한국은 과거 매춘 관광국&quot; 망언',\n",
       "   'originallink': 'https://www.hankyung.com/politics/article/201908079344H',\n",
       "   'link': 'https://news.naver.com/main/read.nhn?mode=LSD&mid=sec&sid1=100&oid=015&aid=0004188647',\n",
       "   'description': \"<b>아베</b> 신조 일본 총리의 최 측근인 에토 세이이치 총리 보좌관이 한국을 '매춘 관광국'으로 언급한 사실이... 에토 보좌관의 발언이 알려진 후 김영춘 의원은 &quot;<b>아베</b> 총리 주변 강경파의 분위기를 보여준 사례라고 볼 수 있다... \",\n",
       "   'pubDate': 'Wed, 07 Aug 2019 15:30:00 +0900'},\n",
       "  {'title': \"주옥순 '친일' 발언에 박용진 &quot;자기가 뭔데 사과를 해&quot;\",\n",
       "   'originallink': 'http://www.ohmynews.com/NWS_Web/View/at_pg.aspx?CNTN_CD=A0002560316&CMPT_CD=P0010&utm_source=naver&utm_medium=newsearch&utm_campaign=naver_news',\n",
       "   'link': 'https://news.naver.com/main/read.nhn?mode=LSD&mid=sec&sid1=102&oid=047&aid=0002236117',\n",
       "   'description': '주옥순 엄마부대 대표는 지난 1일 일본대사관 앞 위안부 소녀상 옆에서 &quot;<b>아베</b> 총리님 국민의 한 사람으로서 진심으로 사죄를 드립니다&quot;라며 &quot;일본 파이팅&quot;을 외쳤습니다. 이에 박용진 더불어민주당 의원은 7일 CBS라디오... ',\n",
       "   'pubDate': 'Wed, 07 Aug 2019 15:30:00 +0900'},\n",
       "  {'title': '8월 7일 빅5 우상단 우상단',\n",
       "   'originallink': 'http://mbn.mk.co.kr/pages/news/newsView.php?category=mbn00006&news_seq_no=3907652',\n",
       "   'link': 'https://news.naver.com/main/read.nhn?mode=LSD&mid=sec&sid1=100&oid=057&aid=0001373565',\n",
       "   'description': '일, 백색국가 제외 시행령 공포 <b>아베</b> 보좌관 &quot;한국 과거 매춘관광지&quot; 김정은 &quot;한미연습에 경고&quot; 경찰 &quot;고유정 사건 수사 부실&quot;',\n",
       "   'pubDate': 'Wed, 07 Aug 2019 15:30:00 +0900'}]}"
      ]
     },
     "execution_count": 28,
     "metadata": {},
     "output_type": "execute_result"
    }
   ],
   "source": [
    "tmp = json.load(response)\n",
    "tmp"
   ]
  },
  {
   "cell_type": "code",
   "execution_count": 29,
   "metadata": {},
   "outputs": [
    {
     "data": {
      "text/plain": [
       "dict"
      ]
     },
     "execution_count": 29,
     "metadata": {},
     "output_type": "execute_result"
    }
   ],
   "source": [
    "type(tmp)"
   ]
  },
  {
   "cell_type": "code",
   "execution_count": 34,
   "metadata": {},
   "outputs": [
    {
     "name": "stdout",
     "output_type": "stream",
     "text": [
      "-> 일본 스타화가, 나라 요시토모 “정의 살아있는 한국은 좋은 나라”\n",
      "-> ‘포스트 <b>아베</b>’ 고이즈미 신지로, 유명 아나운서와 결혼 발표\n",
      "-> 강상중 “화이트리스트 제외…日 치밀히 짠 계획 아냐”\n",
      "-> 구리시의회, 일본 경제보복 규탄 성명…“경제보복 즉각 철회해야”\n",
      "-> 강상중 &quot;도리어 日관광객 환영하고 안전 보장해야&quot;\n",
      "-> “韓 화이트리스트 제외는 ‘계획’ 아닌 <b>아베</b> 의견 반영된 것”\n",
      "-> 日시행세칙, 개별허가 품목 미지정…경제보복 기조는 여전 ‘지켜보자’\n",
      "-> <b>아베</b> 보좌관 &quot;한국은 과거 매춘 관광국&quot; 망언\n",
      "-> 주옥순 '친일' 발언에 박용진 &quot;자기가 뭔데 사과를 해&quot;\n",
      "-> 8월 7일 빅5 우상단 우상단\n"
     ]
    }
   ],
   "source": [
    "for item in tmp['items']:\n",
    "    print( '->', item['title'] )"
   ]
  },
  {
   "cell_type": "code",
   "execution_count": 35,
   "metadata": {},
   "outputs": [
    {
     "data": {
      "text/plain": [
       "['일본 스타화가, 나라 요시토모 “정의 살아있는 한국은 좋은 나라”',\n",
       " '‘포스트 <b>아베</b>’ 고이즈미 신지로, 유명 아나운서와 결혼 발표',\n",
       " '강상중 “화이트리스트 제외…日 치밀히 짠 계획 아냐”',\n",
       " '구리시의회, 일본 경제보복 규탄 성명…“경제보복 즉각 철회해야”',\n",
       " '강상중 &quot;도리어 日관광객 환영하고 안전 보장해야&quot;',\n",
       " '“韓 화이트리스트 제외는 ‘계획’ 아닌 <b>아베</b> 의견 반영된 것”',\n",
       " '日시행세칙, 개별허가 품목 미지정…경제보복 기조는 여전 ‘지켜보자’',\n",
       " '<b>아베</b> 보좌관 &quot;한국은 과거 매춘 관광국&quot; 망언',\n",
       " \"주옥순 '친일' 발언에 박용진 &quot;자기가 뭔데 사과를 해&quot;\",\n",
       " '8월 7일 빅5 우상단 우상단']"
      ]
     },
     "execution_count": 35,
     "metadata": {},
     "output_type": "execute_result"
    }
   ],
   "source": [
    "[ item['title'] for item in tmp['items'] ]"
   ]
  },
  {
   "cell_type": "code",
   "execution_count": null,
   "metadata": {},
   "outputs": [],
   "source": []
  },
  {
   "cell_type": "code",
   "execution_count": null,
   "metadata": {},
   "outputs": [],
   "source": []
  },
  {
   "cell_type": "code",
   "execution_count": null,
   "metadata": {},
   "outputs": [],
   "source": []
  },
  {
   "cell_type": "code",
   "execution_count": null,
   "metadata": {},
   "outputs": [],
   "source": []
  }
 ],
 "metadata": {
  "kernelspec": {
   "display_name": "Python 3",
   "language": "python",
   "name": "python3"
  },
  "language_info": {
   "codemirror_mode": {
    "name": "ipython",
    "version": 3
   },
   "file_extension": ".py",
   "mimetype": "text/x-python",
   "name": "python",
   "nbconvert_exporter": "python",
   "pygments_lexer": "ipython3",
   "version": "3.6.9"
  }
 },
 "nbformat": 4,
 "nbformat_minor": 2
}
